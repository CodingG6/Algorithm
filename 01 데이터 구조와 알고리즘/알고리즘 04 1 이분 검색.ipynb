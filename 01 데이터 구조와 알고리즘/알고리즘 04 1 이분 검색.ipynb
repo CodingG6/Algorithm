{
  "nbformat": 4,
  "nbformat_minor": 0,
  "metadata": {
    "colab": {
      "name": "알고리즘 04-1 이분 검색 ",
      "provenance": [],
      "collapsed_sections": []
    },
    "kernelspec": {
      "name": "python3",
      "display_name": "Python 3"
    },
    "language_info": {
      "name": "python"
    }
  },
  "cells": [
    {
      "cell_type": "markdown",
      "metadata": {
        "id": "-iQOFLLdv7Nx"
      },
      "source": [
        "# 검색과 정렬\n",
        "- 머신러닝에서의 쓰임(많지는 않으나)\n",
        "    - 시간 복잡도 계산 \n",
        "    - 공간  복잡도 계산 \n",
        "    - 시간/공간의 트레이드오프  \n",
        "  - 머신러닝 파이프라인에 적용\n",
        "    - 데이터 캡쳐\n",
        "    - 전처리\n",
        "    - 데이터 훈련\n",
        "    - 모델 개시"
      ]
    },
    {
      "cell_type": "code",
      "metadata": {
        "id": "I3_bbKxVnkLr"
      },
      "source": [
        "import numpy as np\n",
        "import matplotlib.pyplot as plt\n",
        "plt.rc('font', family='NanumBarunGothic') \n",
        "import warnings\n",
        "warnings.filterwarnings(action='ignore')"
      ],
      "execution_count": 1,
      "outputs": []
    },
    {
      "cell_type": "markdown",
      "metadata": {
        "id": "3x9nq9P9guQD"
      },
      "source": [
        "# 4.1 이분 검색"
      ]
    },
    {
      "cell_type": "code",
      "metadata": {
        "id": "GLqAFM4Sj29v",
        "colab": {
          "base_uri": "https://localhost:8080/"
        },
        "outputId": "cbbf811a-5a82-4735-c95b-21510f4374ed"
      },
      "source": [
        "b = np.array([np.random.randint(0, 151) for integer in range(9)])\n",
        "b   # 미정렬 어레이"
      ],
      "execution_count": 3,
      "outputs": [
        {
          "output_type": "execute_result",
          "data": {
            "text/plain": [
              "array([ 53, 129,  26,  84, 134,  45, 139,  37, 124])"
            ]
          },
          "metadata": {},
          "execution_count": 3
        }
      ]
    },
    {
      "cell_type": "markdown",
      "metadata": {
        "id": "V-k1JiXYwvrY"
      },
      "source": [
        "일반적인 상황에서 특정 값(예: 123)을 검색하는 유일한 방법은\n",
        "- 어레이의 요소를 하나 하나 다 뜯어보는 것.\n",
        "- = 말하자면 하나하나 interation 해야 함. \n",
        "\n",
        "최악의 경우 시간복잡도는 선형의 $O(n)$가 된다. 123의 경우 $O(123)$이 되는 셈.\n"
      ]
    },
    {
      "cell_type": "code",
      "metadata": {
        "colab": {
          "base_uri": "https://localhost:8080/"
        },
        "id": "IzHUpB4rr0dM",
        "outputId": "da0a1a36-dbc5-4dcd-ffb2-62d6db79a983"
      },
      "source": [
        "# 빠른 정렬\n",
        "b.sort()\n",
        "b"
      ],
      "execution_count": 4,
      "outputs": [
        {
          "output_type": "execute_result",
          "data": {
            "text/plain": [
              "array([ 26,  37,  45,  53,  84, 124, 129, 134, 139])"
            ]
          },
          "metadata": {},
          "execution_count": 4
        }
      ]
    },
    {
      "cell_type": "markdown",
      "metadata": {
        "id": "EWuISl4sxY09"
      },
      "source": [
        "**이분 검색** 알고리즘을 이용하면 시간복잡도를 O(log $n$)로 줄일 수 있다. 단, 이분 검색은 데이터가 정렬되어 있음을 전제로 한다. \n",
        "\n",
        "    array([ 26,  37,  45,  53,  84, 124, 129, 134, 139])\n",
        "\n",
        "\n",
        "\n",
        "- 1) 어레이를 절반으로 자른다.\n",
        "    - 9개의 요소를 가진 어레이에서는 절반이 5번째 숫자가 될 것이다.\n",
        "    - 위의 예에서는 70이 절반 번째 숫자.\n",
        "- 2) 찾고자 하는 값이 절반에 위치해 있는 숫자보다 크면 왼쪽 절반에서 숫자를 찾으면 된다. 반대로, 목표 값이 절반 값보다 작으면 오른쪽 절반만 검색하면 된다.\n",
        "    - `121`을 찾고자 한다면 70을 기준으로 반으로 나눴을 때 왼쪽 어레이 `[75, 116, 121, 133]`를 찾으면 금방 찾을 수 있다 .\n",
        "- 3) 위의 1)-2)를 반복해서 `절반 번째 값 == 목표 값`이 되면 검색 완료!\n",
        "\n",
        "각 검색의 회차마다 어레이를 절반으로 쪼개서 2분 검색이다. \n",
        "\n",
        "<br/>\n",
        "\n",
        "----\n",
        "\n",
        "<br/>\n",
        "\n",
        "어래이의 요소 갯수를 두 배로 늘리는 작업을 $n$번 해도(요소의 수는 총 $2^n$ 개가 됨), 검색 시 어레이를 절반으로 쪼개면 검색 작업 횟수는 한 번만 늘어난다. \n",
        "- 어레이 길이와 검색 횟수는 둘이 다른 작업이다. 헷갈리지 말 것.\n",
        "\n",
        "> 어레이를 이분(둘로 쪼갬)하는 것을 한 번의 검색으로 한다. 이분 검색 횟수를 수식으로 계산하면 다음과 같다. \n",
        "\n",
        "* 요소를 1개만 가지는 어레이 검색 ($= 2^0$)\n",
        "* 2($= 2^1$): 2~3개 요소의 어레이는 최대 2회\n",
        "* $n = 4 (= 2^2$): 4~7개 요소의 어레이는 최대 3회\n",
        "* $n = 8 (= 2^3$): 8~ 15개 요소의 어레이는 최대 4회\n",
        "* $n = 16 (= 2^4$): 16~31개 요소의 어레이는 최대 5회..."
      ]
    },
    {
      "cell_type": "code",
      "metadata": {
        "colab": {
          "base_uri": "https://localhost:8080/"
        },
        "id": "YiL18n-O48w6",
        "outputId": "3a4fce29-6924-4b7d-c613-e19f4ace00c4"
      },
      "source": [
        "# 요소가 4개 있는 어레이\n",
        "np.log2(4) + 1          \n",
        "\n",
        "# +1은 어레이 요소가 1개라도 1번은 무조건 찾아야 하기 때문."
      ],
      "execution_count": 5,
      "outputs": [
        {
          "output_type": "execute_result",
          "data": {
            "text/plain": [
              "3.0"
            ]
          },
          "metadata": {},
          "execution_count": 5
        }
      ]
    },
    {
      "cell_type": "code",
      "metadata": {
        "colab": {
          "base_uri": "https://localhost:8080/"
        },
        "id": "QTTIzFsc5Aln",
        "outputId": "93b0965e-04d3-4eca-b879-17dea90446d7"
      },
      "source": [
        "# 요소가 8개 있는 어레이\n",
        "np.log2(8) + 1"
      ],
      "execution_count": 6,
      "outputs": [
        {
          "output_type": "execute_result",
          "data": {
            "text/plain": [
              "4.0"
            ]
          },
          "metadata": {},
          "execution_count": 6
        }
      ]
    },
    {
      "cell_type": "code",
      "metadata": {
        "colab": {
          "base_uri": "https://localhost:8080/"
        },
        "id": "EblMPYt75KVS",
        "outputId": "a7e2dc26-ff79-45ed-cdc3-ab4eca2a6889"
      },
      "source": [
        "# 요소가 16개 있는 어레이\n",
        "np.log2(16) + 1"
      ],
      "execution_count": 7,
      "outputs": [
        {
          "output_type": "execute_result",
          "data": {
            "text/plain": [
              "5.0"
            ]
          },
          "metadata": {},
          "execution_count": 7
        }
      ]
    },
    {
      "cell_type": "markdown",
      "metadata": {
        "id": "K8t0oMya5imi"
      },
      "source": [
        "### 이분 검색의 시간 복잡도"
      ]
    },
    {
      "cell_type": "code",
      "metadata": {
        "colab": {
          "base_uri": "https://localhost:8080/"
        },
        "id": "EP8zw58F5bsy",
        "outputId": "5f1b1851-fe7f-41a9-8f4e-2af324a949d7"
      },
      "source": [
        "binary = np.arange(2, 101, 2)\n",
        "binary"
      ],
      "execution_count": 6,
      "outputs": [
        {
          "output_type": "execute_result",
          "data": {
            "text/plain": [
              "array([  2,   4,   6,   8,  10,  12,  14,  16,  18,  20,  22,  24,  26,\n",
              "        28,  30,  32,  34,  36,  38,  40,  42,  44,  46,  48,  50,  52,\n",
              "        54,  56,  58,  60,  62,  64,  66,  68,  70,  72,  74,  76,  78,\n",
              "        80,  82,  84,  86,  88,  90,  92,  94,  96,  98, 100])"
            ]
          },
          "metadata": {},
          "execution_count": 6
        }
      ]
    },
    {
      "cell_type": "code",
      "metadata": {
        "colab": {
          "base_uri": "https://localhost:8080/",
          "height": 352
        },
        "id": "ihi-7Tk35h29",
        "outputId": "a8d08cd1-67f7-49c1-e4a0-d8d9f989513f"
      },
      "source": [
        "fig, ax = plt.subplots()\n",
        "ax.plot(binary, np.log2(binary) + 1, label=\"log2(x)\")\n",
        "ax.set_xlabel(\"리스트의 요소 n 개\", fontsize=15)\n",
        "ax.set_ylabel(\"검색 작업 n 회\", fontsize=15)\n",
        "ax.legend()\n",
        "fig.suptitle(\"리스트의 요소를 두 배로 늘릴 때마다\\n시간 복잡도는 지수의 속도로 천천히 는다.\", fontsize=20, y=1.05)\n",
        "# In time complexity computation, however, we compute the most dominant term only. "
      ],
      "execution_count": 7,
      "outputs": [
        {
          "output_type": "execute_result",
          "data": {
            "text/plain": [
              "Text(0.5, 1.05, '리스트의 요소를 두 배로 늘릴 때마다\\n시간 복잡도는 지수의 속도로 천천히 는다.')"
            ]
          },
          "metadata": {},
          "execution_count": 7
        },
        {
          "output_type": "display_data",
          "data": {
            "image/png": "[encoded data removed]",
            "text/plain": [
              "<Figure size 432x288 with 1 Axes>"
            ]
          },
          "metadata": {
            "needs_background": "light"
          }
        }
      ]
    },
    {
      "cell_type": "markdown",
      "metadata": {
        "id": "Fvqg1lo_9PU5"
      },
      "source": [
        "## 리스트의 이분 검색 - 인덱스 값의 조종\n",
        "\n",
        "- 실은 이분 검색은 그다지 어렵지 않다.\n",
        "- 인덱스 값을 가지고 노는 게 알고리즘의 전부이다. "
      ]
    },
    {
      "cell_type": "code",
      "metadata": {
        "id": "9JbDrrBl5lJT"
      },
      "source": [
        "# low, high, midpoint는 서로 다른 인덱스 값에 이름을 준 것이다.\n",
        "# 인덱스 값에 이름을 주면 그 이름을 통해 리스트의 여기저기로 위치를 옮겨다닐 수 있다.\n",
        "\n",
        "def binary_search(array, value):\n",
        "    low = 0               # 인덱스의 첫번째 요소\n",
        "    high = len(array) - 1 # 인덱스의 마지막 요소\n",
        "\n",
        "    while low <= high:    # 리스트의 첫 값이 막값보다 작으면\n",
        "        midpoint = (low + high) // 2  # 리스트의 절반의 인덱스를 찾는다. 2로 나눴을 때의 목을 절반으로 한다.\n",
        "        if value < array[midpoint]:   # 찾고자 하는 값이 절반 값보다 작으면\n",
        "            high = midpoint - 1       # 인덱스의 마지막 요소를 절반-1 값으로 옮긴다. \n",
        "                                      # (사실 인덱스가 쪼개지는 건 아니다. 그냥 인덱스 위치를 반으로 옮겨놓고 쪼갠 것처럼 여기는 것이다 )\n",
        "        elif value > array[midpoint]:\n",
        "            low = midpoint + 1\n",
        "        else: \n",
        "            return midpoint\n",
        "    return -1"
      ],
      "execution_count": 8,
      "outputs": []
    },
    {
      "cell_type": "code",
      "metadata": {
        "colab": {
          "base_uri": "https://localhost:8080/"
        },
        "id": "U_smkn8-5hxL",
        "outputId": "fa7b0169-531e-463b-9f20-fbc02c0f16b8"
      },
      "source": [
        "binary_search(b, 139)"
      ],
      "execution_count": 16,
      "outputs": [
        {
          "output_type": "execute_result",
          "data": {
            "text/plain": [
              "8"
            ]
          },
          "metadata": {},
          "execution_count": 16
        }
      ]
    },
    {
      "cell_type": "code",
      "metadata": {
        "colab": {
          "base_uri": "https://localhost:8080/"
        },
        "id": "IrAx62rH97kE",
        "outputId": "f9dfab49-5d2f-4334-87ee-5b0ac87f77d9"
      },
      "source": [
        "binary_search(b, 235)   # 없는 수를 찾으면 -1을 반환한다. "
      ],
      "execution_count": 17,
      "outputs": [
        {
          "output_type": "execute_result",
          "data": {
            "text/plain": [
              "-1"
            ]
          },
          "metadata": {},
          "execution_count": 17
        }
      ]
    },
    {
      "cell_type": "code",
      "metadata": {
        "colab": {
          "base_uri": "https://localhost:8080/"
        },
        "id": "7Sl9ifCC91cE",
        "outputId": "626f1d2d-1e88-4e40-ae27-23ff753a0f27"
      },
      "source": [
        "binary_search(binary, 64)"
      ],
      "execution_count": 18,
      "outputs": [
        {
          "output_type": "execute_result",
          "data": {
            "text/plain": [
              "31"
            ]
          },
          "metadata": {},
          "execution_count": 18
        }
      ]
    },
    {
      "cell_type": "code",
      "metadata": {
        "id": "6gM3viT8-NZa"
      },
      "source": [
        "def recursive_binary_search(array, value, low, high):  # 재귀적 이분 검색\n",
        "    if low <= high:\n",
        "        midpoint = (low + high) // 2\n",
        "\n",
        "        if array[midpoint] == value:\n",
        "            return midpoint\n",
        "        elif array[midpoint] > value:\n",
        "            return recursive_binary_search(array, value, low, midpoint-1)  # 재귀 함수를 부를 때는\n",
        "        else:                                                              # 리스트의 절반값을 변수로 준다. \n",
        "            return recursive_binary_search(array, value, midpoint+1, high)\n",
        "    else:\n",
        "        return -1"
      ],
      "execution_count": 21,
      "outputs": []
    },
    {
      "cell_type": "code",
      "metadata": {
        "colab": {
          "base_uri": "https://localhost:8080/"
        },
        "id": "Ey9ctzr1_jY8",
        "outputId": "59e3560c-3d33-4f01-ce31-51d1748fc13a"
      },
      "source": [
        "recursive_binary_search(b, 138, 0, len(b)-1)"
      ],
      "execution_count": 25,
      "outputs": [
        {
          "output_type": "execute_result",
          "data": {
            "text/plain": [
              "-1"
            ]
          },
          "metadata": {},
          "execution_count": 25
        }
      ]
    },
    {
      "cell_type": "code",
      "metadata": {
        "colab": {
          "base_uri": "https://localhost:8080/"
        },
        "id": "xqVkkGDc_9bf",
        "outputId": "c194f110-e059-49dd-c108-c614102efbe3"
      },
      "source": [
        "recursive_binary_search(b, 235, 0, len(b)-1)"
      ],
      "execution_count": 23,
      "outputs": [
        {
          "output_type": "execute_result",
          "data": {
            "text/plain": [
              "-1"
            ]
          },
          "metadata": {},
          "execution_count": 23
        }
      ]
    },
    {
      "cell_type": "code",
      "metadata": {
        "colab": {
          "base_uri": "https://localhost:8080/"
        },
        "id": "_OMsQX09_rVp",
        "outputId": "44666761-3bfa-4d7f-d134-2f0c70297ec9"
      },
      "source": [
        "recursive_binary_search(binary, 82, 0, len(binary)-1)"
      ],
      "execution_count": 24,
      "outputs": [
        {
          "output_type": "execute_result",
          "data": {
            "text/plain": [
              "40"
            ]
          },
          "metadata": {},
          "execution_count": 24
        }
      ]
    },
    {
      "cell_type": "markdown",
      "metadata": {
        "id": "O3KHteJ9OshX"
      },
      "source": [
        "**참고 자료**\n",
        "\n",
        "- 소스 코드  \n",
        "[**\"Data Structures, Algorithms, and Machine Learning Optimization\"**](https://learning.oreilly.com/videos/data-structures-algorithms/9780137644889/)"
      ]
    }
  ]
}