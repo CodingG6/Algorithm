{
  "nbformat": 4,
  "nbformat_minor": 0,
  "metadata": {
    "colab": {
      "name": "알고리즘 02-04 다항시간.ipynb",
      "provenance": [],
      "collapsed_sections": [],
      "machine_shape": "hm"
    },
    "kernelspec": {
      "name": "python3",
      "display_name": "Python 3"
    },
    "language_info": {
      "name": "python"
    },
    "accelerator": "TPU"
  },
  "cells": [
    {
      "cell_type": "markdown",
      "metadata": {
        "id": "OdQ-_5OYjlWc"
      },
      "source": [
        "# 4. 다항 시간\n",
        "\n",
        "위키피디아 발췌\n",
        "\n",
        "[다항 시간](https://ko.wikipedia.org/wiki/%EB%8B%A4%ED%95%AD_%EC%8B%9C%EA%B0%84)은 어떠한 문제를 계산하는 데에 걸리는 시간 m(n)이 문제의 크기 n의 다항식 함수보다 크지 않은 것을 가리킨다.\n",
        "\n",
        "대문자 O 표기법을 사용하면 m(n) = O(nk)이 된다. 여기서 k는 문제에 따라 다른 상수 값이다.\n",
        "\n",
        "일반적으로 입력 길이의 다항 시간이 걸리는 경우를 '빠른', 혹은 '다루기 쉬운'(tractable) 경우라고 표현한다. 반대로 다항 시간보다 오래 걸리는 경우를 초다항 시간(超多項時間)으로 부르며, 이 경우는 '다루기 힘든'(intractable) 경우로 표현한다. 초다항 시간에 속하는 예로는 지수 시간이 있다.\n",
        "\n",
        "결정론적 튜링 기계로 다항 시간에 풀 수 있는 결정 문제의 복잡도 종류는 P이다. 다항 시간에 답이 맞는지 틀린지를 검사할 수 있는 판정 문제의 복잡도 종류는 NP이다. 다시 말하면, NP는 비결정론적 튜링 기계로 다항 시간에 풀 수 있는 판정 문제의 복잡도 종류이다."
      ]
    },
    {
      "cell_type": "code",
      "metadata": {
        "id": "rEMWzIl7jxKU"
      },
      "source": [
        "import time\n",
        "import torch\n",
        "import random           \n",
        "import numpy as np\n",
        "import tensorflow as tf\n",
        "\n",
        "import pandas as pd\n",
        "import seaborn as sb\n",
        "import matplotlib.pyplot as plt"
      ],
      "execution_count": 7,
      "outputs": []
    },
    {
      "cell_type": "code",
      "metadata": {
        "id": "mHCxPfoHjbHw"
      },
      "source": [
        "def element_multiplier(my_list):\n",
        "    for i in range(len(my_list)):\n",
        "        for j in range(len(my_list)):\n",
        "            x = my_list[i] * my_list[j]"
      ],
      "execution_count": 8,
      "outputs": []
    },
    {
      "cell_type": "code",
      "metadata": {
        "colab": {
          "base_uri": "https://localhost:8080/"
        },
        "id": "hCxs-e6ujk0h",
        "outputId": "e779bab6-7906-4360-9914-a335cdcb8567"
      },
      "source": [
        "list_lengths = [10**exponent for exponent in range(1, 9)]\n",
        "demo_lengths = list_lengths[:4] + [50, 500, 5000, 50000]\n",
        "demo_lengths.sort()\n",
        "demo_lengths"
      ],
      "execution_count": 19,
      "outputs": [
        {
          "output_type": "execute_result",
          "data": {
            "text/plain": [
              "[10, 50, 100, 500, 1000, 5000, 10000, 50000]"
            ]
          },
          "metadata": {},
          "execution_count": 19
        }
      ]
    },
    {
      "cell_type": "markdown",
      "metadata": {
        "id": "EDBSZjdR6zUQ"
      },
      "source": [
        "## 다항 시간 실험 1 - 2중 for문\n",
        "- 8개의 리스트 길이를 담은 리스트가 있다. \n",
        "  - [십, 백, 천, 만, 십만, 백만, 천만, 1억]\n",
        "- 이 리스트에 담긴 각각의 길이만큼의 정수를 요소로 갖는 리스트를 생성한다.\n",
        "  - 모든 리스트의 요소는 1과 99 사이의 정수이다. \n",
        "- 한 리스트의 n번째 요소에 대해, 첫번째부터 마지막 번째가지의 요소를 곱해준다. \n",
        "  - 예) 1번째 요소 x 1번째 요소\n",
        "  - 예) 1번째 요소 x 2번째 요소 ...\n",
        "  - 예) 1번째 요소 x 마지막 번째 요소\n",
        "  - 이 것이 끝나면\n",
        "  - 예) 2번째 요소 x 1번째 요소 ... \n",
        "  - 이런 식으로 끝까지 곱해준다.\n",
        "- **곱셈의 횟수**\n",
        "  - 리스트의 길이가 10이면 10x10, 즉 10의 2승번 곱셈을 하게 된다.\n",
        "  - 리스트의 길이가 10,000이면 만개의 요소에 대해 각 10,000개의 요소를 한 번씩 곱하므로 $10,000^2$번, 즉 1억번의 곱셈을 수행하게 된다. \n",
        "\n"
      ]
    },
    {
      "cell_type": "markdown",
      "metadata": {
        "id": "3Jqv7vqK9wPz"
      },
      "source": [
        "### 실험 중지\n",
        "- 쓸데 없이 오래 걸려서 무의미한 곱셈 연산 중지. "
      ]
    },
    {
      "cell_type": "code",
      "metadata": {
        "id": "yzsXL07wj01F",
        "colab": {
          "base_uri": "https://localhost:8080/",
          "height": 589
        },
        "outputId": "6d0cc171-d17f-4258-f63b-b131ee08093a"
      },
      "source": [
        "poly_times = []\n",
        "\n",
        "for length in list_lengths:\n",
        "    start = time.process_time()\n",
        "    random_list = [np.random.randint(1, 100) for random_integer in range(length)]\n",
        "    end = time.process_time()\n",
        "    print('{:,}개 길이 리스트 생성 소요 시간: {} 초'.format(length, (end-start)))    \n",
        "    \n",
        "    start = time.process_time()\n",
        "    element_multiplier(random_list)\n",
        "    end = time.process_time()\n",
        "    poly_times.append(end - start)\n",
        "    print('{:,}개 길이 리스트의 2중 for문 곱셈 소요 시간: {} 초\\n'.format(length, (end-start)))"
      ],
      "execution_count": 11,
      "outputs": [
        {
          "metadata": {
            "tags": null
          },
          "name": "stdout",
          "output_type": "stream",
          "text": [
            "10개 길이 리스트 생성 소요 시간: 8.801899999966167e-05 초\n",
            "10개 길이 리스트의 2중 for문 곱셈 소요 시간: 5.790700000041227e-05 초\n",
            "\n",
            "100개 길이 리스트 생성 소요 시간: 0.00034771800000044095 초\n",
            "100개 길이 리스트의 2중 for문 곱셈 소요 시간: 0.0010199320000001677 초\n",
            "\n",
            "1,000개 길이 리스트 생성 소요 시간: 0.00314759299999956 초\n",
            "1,000개 길이 리스트의 2중 for문 곱셈 소요 시간: 0.11245990200000122 초\n",
            "\n",
            "10,000개 길이 리스트 생성 소요 시간: 0.031490632000000573 초\n",
            "10,000개 길이 리스트의 2중 for문 곱셈 소요 시간: 10.886288853 초\n",
            "\n",
            "100,000개 길이 리스트 생성 소요 시간: 0.30880744499999935 초\n"
          ]
        },
        {
          "output_type": "error",
          "ename": "KeyboardInterrupt",
          "evalue": "ignored",
          "traceback": [
            "\u001b[0;31m---------------------------------------------------------------------------\u001b[0m",
            "\u001b[0;31mKeyboardInterrupt\u001b[0m                         Traceback (most recent call last)",
            "\u001b[0;32m<ipython-input-11-8248e9f7edad>\u001b[0m in \u001b[0;36m<module>\u001b[0;34m()\u001b[0m\n\u001b[1;32m      8\u001b[0m \u001b[0;34m\u001b[0m\u001b[0m\n\u001b[1;32m      9\u001b[0m     \u001b[0mstart\u001b[0m \u001b[0;34m=\u001b[0m \u001b[0mtime\u001b[0m\u001b[0;34m.\u001b[0m\u001b[0mprocess_time\u001b[0m\u001b[0;34m(\u001b[0m\u001b[0;34m)\u001b[0m\u001b[0;34m\u001b[0m\u001b[0;34m\u001b[0m\u001b[0m\n\u001b[0;32m---> 10\u001b[0;31m     \u001b[0melement_multiplier\u001b[0m\u001b[0;34m(\u001b[0m\u001b[0mrandom_list\u001b[0m\u001b[0;34m)\u001b[0m\u001b[0;34m\u001b[0m\u001b[0;34m\u001b[0m\u001b[0m\n\u001b[0m\u001b[1;32m     11\u001b[0m     \u001b[0mend\u001b[0m \u001b[0;34m=\u001b[0m \u001b[0mtime\u001b[0m\u001b[0;34m.\u001b[0m\u001b[0mprocess_time\u001b[0m\u001b[0;34m(\u001b[0m\u001b[0;34m)\u001b[0m\u001b[0;34m\u001b[0m\u001b[0;34m\u001b[0m\u001b[0m\n\u001b[1;32m     12\u001b[0m     \u001b[0mpoly_times\u001b[0m\u001b[0;34m.\u001b[0m\u001b[0mappend\u001b[0m\u001b[0;34m(\u001b[0m\u001b[0mend\u001b[0m \u001b[0;34m-\u001b[0m \u001b[0mstart\u001b[0m\u001b[0;34m)\u001b[0m\u001b[0;34m\u001b[0m\u001b[0;34m\u001b[0m\u001b[0m\n",
            "\u001b[0;32m<ipython-input-8-a5b0335d08b0>\u001b[0m in \u001b[0;36melement_multiplier\u001b[0;34m(my_list)\u001b[0m\n\u001b[1;32m      1\u001b[0m \u001b[0;32mdef\u001b[0m \u001b[0melement_multiplier\u001b[0m\u001b[0;34m(\u001b[0m\u001b[0mmy_list\u001b[0m\u001b[0;34m)\u001b[0m\u001b[0;34m:\u001b[0m\u001b[0;34m\u001b[0m\u001b[0;34m\u001b[0m\u001b[0m\n\u001b[1;32m      2\u001b[0m     \u001b[0;32mfor\u001b[0m \u001b[0mi\u001b[0m \u001b[0;32min\u001b[0m \u001b[0mrange\u001b[0m\u001b[0;34m(\u001b[0m\u001b[0mlen\u001b[0m\u001b[0;34m(\u001b[0m\u001b[0mmy_list\u001b[0m\u001b[0;34m)\u001b[0m\u001b[0;34m)\u001b[0m\u001b[0;34m:\u001b[0m\u001b[0;34m\u001b[0m\u001b[0;34m\u001b[0m\u001b[0m\n\u001b[0;32m----> 3\u001b[0;31m         \u001b[0;32mfor\u001b[0m \u001b[0mj\u001b[0m \u001b[0;32min\u001b[0m \u001b[0mrange\u001b[0m\u001b[0;34m(\u001b[0m\u001b[0mlen\u001b[0m\u001b[0;34m(\u001b[0m\u001b[0mmy_list\u001b[0m\u001b[0;34m)\u001b[0m\u001b[0;34m)\u001b[0m\u001b[0;34m:\u001b[0m\u001b[0;34m\u001b[0m\u001b[0;34m\u001b[0m\u001b[0m\n\u001b[0m\u001b[1;32m      4\u001b[0m             \u001b[0mx\u001b[0m \u001b[0;34m=\u001b[0m \u001b[0mmy_list\u001b[0m\u001b[0;34m[\u001b[0m\u001b[0mi\u001b[0m\u001b[0;34m]\u001b[0m \u001b[0;34m*\u001b[0m \u001b[0mmy_list\u001b[0m\u001b[0;34m[\u001b[0m\u001b[0mj\u001b[0m\u001b[0;34m]\u001b[0m\u001b[0;34m\u001b[0m\u001b[0;34m\u001b[0m\u001b[0m\n",
            "\u001b[0;31mKeyboardInterrupt\u001b[0m: "
          ]
        }
      ]
    },
    {
      "cell_type": "code",
      "metadata": {
        "colab": {
          "base_uri": "https://localhost:8080/"
        },
        "id": "zYeMSI_G9os8",
        "outputId": "7f5587c0-f530-4162-a248-00e3c7c67181"
      },
      "source": [
        "poly_times"
      ],
      "execution_count": 14,
      "outputs": [
        {
          "output_type": "execute_result",
          "data": {
            "text/plain": [
              "[5.790700000041227e-05,\n",
              " 0.0010199320000001677,\n",
              " 0.11245990200000122,\n",
              " 10.886288853]"
            ]
          },
          "metadata": {},
          "execution_count": 14
        }
      ]
    },
    {
      "cell_type": "markdown",
      "metadata": {
        "id": "YNSxU93O97US"
      },
      "source": [
        "## 다항 시간 실험 2 - 2중 for문\n",
        "- 리스트의 길이를 축소해서 재실험"
      ]
    },
    {
      "cell_type": "code",
      "metadata": {
        "colab": {
          "base_uri": "https://localhost:8080/"
        },
        "id": "M7ZfBqcd9nu8",
        "outputId": "31e6c569-65ca-419e-f7ee-6396a52109c4"
      },
      "source": [
        "poly_times = []\n",
        "\n",
        "for length in demo_lengths:\n",
        "    start = time.process_time()\n",
        "    random_list = [np.random.randint(1, 100) for random_integer in range(length)]\n",
        "    end = time.process_time()\n",
        "    print('{:,}개 길이 리스트 생성 소요 시간: {} 초'.format(length, (end-start)))    \n",
        "    \n",
        "    start = time.process_time()\n",
        "    element_multiplier(random_list)\n",
        "    end = time.process_time()\n",
        "    poly_times.append(end - start)\n",
        "    print('{:,}개 길이 리스트의 2중 for문 곱셈 소요 시간: {} 초\\n'.format(length, (end-start)))"
      ],
      "execution_count": 20,
      "outputs": [
        {
          "output_type": "stream",
          "name": "stdout",
          "text": [
            "10개 길이 리스트 생성 소요 시간: 0.00011972400000104244 초\n",
            "10개 길이 리스트의 2중 for문 곱셈 소요 시간: 2.544099993428972e-05 초\n",
            "\n",
            "50개 길이 리스트 생성 소요 시간: 0.00023608500009686395 초\n",
            "50개 길이 리스트의 2중 for문 곱셈 소요 시간: 0.0002775020000171935 초\n",
            "\n",
            "100개 길이 리스트 생성 소요 시간: 0.0003738249999969412 초\n",
            "100개 길이 리스트의 2중 for문 곱셈 소요 시간: 0.001070617999971546 초\n",
            "\n",
            "500개 길이 리스트 생성 소요 시간: 0.0017149139999901308 초\n",
            "500개 길이 리스트의 2중 for문 곱셈 소요 시간: 0.02962220899996737 초\n",
            "\n",
            "1,000개 길이 리스트 생성 소요 시간: 0.003206309000006513 초\n",
            "1,000개 길이 리스트의 2중 for문 곱셈 소요 시간: 0.10662507899996854 초\n",
            "\n",
            "5,000개 길이 리스트 생성 소요 시간: 0.01643779000005452 초\n",
            "5,000개 길이 리스트의 2중 for문 곱셈 소요 시간: 2.7434226730000546 초\n",
            "\n",
            "10,000개 길이 리스트 생성 소요 시간: 0.03197108299991669 초\n",
            "10,000개 길이 리스트의 2중 for문 곱셈 소요 시간: 10.892968696999901 초\n",
            "\n",
            "50,000개 길이 리스트 생성 소요 시간: 0.1574788499999613 초\n",
            "50,000개 길이 리스트의 2중 for문 곱셈 소요 시간: 276.7752381270001 초\n",
            "\n"
          ]
        }
      ]
    },
    {
      "cell_type": "code",
      "metadata": {
        "colab": {
          "base_uri": "https://localhost:8080/",
          "height": 299
        },
        "id": "OB8ZrugQ-SCN",
        "outputId": "c22a5fa7-a1d6-40e0-8b63-ac11d545a5ca"
      },
      "source": [
        "polytime_df = pd.DataFrame(list(zip(demo_lengths, poly_times)), columns=['length', 'time'])\n",
        "polytime_df"
      ],
      "execution_count": 21,
      "outputs": [
        {
          "output_type": "execute_result",
          "data": {
            "text/html": [
              "<div>\n",
              "<style scoped>\n",
              "    .dataframe tbody tr th:only-of-type {\n",
              "        vertical-align: middle;\n",
              "    }\n",
              "\n",
              "    .dataframe tbody tr th {\n",
              "        vertical-align: top;\n",
              "    }\n",
              "\n",
              "    .dataframe thead th {\n",
              "        text-align: right;\n",
              "    }\n",
              "</style>\n",
              "<table border=\"1\" class=\"dataframe\">\n",
              "  <thead>\n",
              "    <tr style=\"text-align: right;\">\n",
              "      <th></th>\n",
              "      <th>length</th>\n",
              "      <th>time</th>\n",
              "    </tr>\n",
              "  </thead>\n",
              "  <tbody>\n",
              "    <tr>\n",
              "      <th>0</th>\n",
              "      <td>10</td>\n",
              "      <td>0.000025</td>\n",
              "    </tr>\n",
              "    <tr>\n",
              "      <th>1</th>\n",
              "      <td>50</td>\n",
              "      <td>0.000278</td>\n",
              "    </tr>\n",
              "    <tr>\n",
              "      <th>2</th>\n",
              "      <td>100</td>\n",
              "      <td>0.001071</td>\n",
              "    </tr>\n",
              "    <tr>\n",
              "      <th>3</th>\n",
              "      <td>500</td>\n",
              "      <td>0.029622</td>\n",
              "    </tr>\n",
              "    <tr>\n",
              "      <th>4</th>\n",
              "      <td>1000</td>\n",
              "      <td>0.106625</td>\n",
              "    </tr>\n",
              "    <tr>\n",
              "      <th>5</th>\n",
              "      <td>5000</td>\n",
              "      <td>2.743423</td>\n",
              "    </tr>\n",
              "    <tr>\n",
              "      <th>6</th>\n",
              "      <td>10000</td>\n",
              "      <td>10.892969</td>\n",
              "    </tr>\n",
              "    <tr>\n",
              "      <th>7</th>\n",
              "      <td>50000</td>\n",
              "      <td>276.775238</td>\n",
              "    </tr>\n",
              "  </tbody>\n",
              "</table>\n",
              "</div>"
            ],
            "text/plain": [
              "   length        time\n",
              "0      10    0.000025\n",
              "1      50    0.000278\n",
              "2     100    0.001071\n",
              "3     500    0.029622\n",
              "4    1000    0.106625\n",
              "5    5000    2.743423\n",
              "6   10000   10.892969\n",
              "7   50000  276.775238"
            ]
          },
          "metadata": {},
          "execution_count": 21
        }
      ]
    },
    {
      "cell_type": "code",
      "metadata": {
        "id": "9yXA7vlBAQkb"
      },
      "source": [
        "polytime_df.to_csv('/content/polytime.cvs')"
      ],
      "execution_count": 25,
      "outputs": []
    },
    {
      "cell_type": "code",
      "metadata": {
        "colab": {
          "base_uri": "https://localhost:8080/",
          "height": 387
        },
        "id": "FLHGmumQ9_0t",
        "outputId": "26d67c21-53dc-4261-bebc-ecc5fd907f50"
      },
      "source": [
        "sb.lmplot(x='length', y='time', data=polytime_df, ci=None, order=2)"
      ],
      "execution_count": 24,
      "outputs": [
        {
          "output_type": "execute_result",
          "data": {
            "text/plain": [
              "<seaborn.axisgrid.FacetGrid at 0x7f9d3967f450>"
            ]
          },
          "metadata": {},
          "execution_count": 24
        },
        {
          "output_type": "display_data",
          "data": {
            "image/png": "[encoded data removed]",
            "text/plain": [
              "<Figure size 360x360 with 1 Axes>"
            ]
          },
          "metadata": {
            "needs_background": "light"
          }
        }
      ]
    },
    {
      "cell_type": "markdown",
      "metadata": {
        "id": "ajE9zchQxXur"
      },
      "source": [
        "# 중요 함수\n",
        "- `sns.lmplot(x='n', y='time', data=dataset, ci=None)`\n",
        "  - lmplot = linear model (regression) plot\n",
        "  - ci: confidence intreval, 신뢰구간\n",
        "- `pd.DataFrame(list(zip(list1, list2, ..., list_n)),`\n",
        "  - list(zip(item1, item2 ... item_n))\n",
        "- `time.process_time()`"
      ]
    }
  ]
}
