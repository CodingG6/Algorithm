{
  "nbformat": 4,
  "nbformat_minor": 0,
  "metadata": {
    "colab": {
      "name": "ALGO 05 Sets and Hashing 4 String Keys and Hashing in ML",
      "provenance": [],
      "collapsed_sections": []
    },
    "kernelspec": {
      "name": "python3",
      "display_name": "Python 3"
    },
    "language_info": {
      "name": "python"
    }
  },
  "cells": [
    {
      "cell_type": "markdown",
      "metadata": {
        "id": "-iQOFLLdv7Nx"
      },
      "source": [
        "# 5.7 스트링 키\n",
        "\n",
        "ASCII Table https://www.asciitable.com/\n"
      ]
    },
    {
      "cell_type": "code",
      "metadata": {
        "id": "h6O_4jT6HybH"
      },
      "source": [
        ""
      ],
      "execution_count": null,
      "outputs": []
    },
    {
      "cell_type": "markdown",
      "metadata": {
        "id": "W96xjTc5L0_n"
      },
      "source": [
        "# 5.8 머신러닝에서의 해싱\n",
        "\n",
        "1) 자연어 처리에서 정수-문자열 맵핑 \n",
        "2) 훈련 데이터셋을 효율적으로 로딩 \n",
        "3) 프로덕션 데이터 접근 \n",
        "- 어레이 대신 쓰임\n",
        "- 계산된 특성을 캐시해 둠 \n",
        "4) 데이터 전처리 과정에서 쓰임 \n",
        "\n",
        "캐시된 값을 해시맵에 저장해두었다가 제작 단계에서 해시 맵에 저장된 미리 계산된 특성에 접근해서 사용. 이렇게 하면 계산이 복잡한 데이터를 실시간으로 바로 사용 가능.*\""
      ]
    }
  ]
}