{
  "nbformat": 4,
  "nbformat_minor": 0,
  "metadata": {
    "colab": {
      "name": "Merge Sort - 비움.ipynb",
      "provenance": [],
      "collapsed_sections": []
    },
    "kernelspec": {
      "name": "python3",
      "display_name": "Python 3"
    },
    "language_info": {
      "name": "python"
    }
  },
  "cells": [
    {
      "cell_type": "markdown",
      "metadata": {
        "id": "9YSvSwqADj_g"
      },
      "source": [
        "# Merge Sort - 비움"
      ]
    },
    {
      "cell_type": "code",
      "metadata": {
        "id": "6ilStTmEFbPz"
      },
      "source": [
        "import numpy as np"
      ],
      "execution_count": null,
      "outputs": []
    },
    {
      "cell_type": "markdown",
      "metadata": {
        "id": "w8_tK2KlDi27"
      },
      "source": [
        "## 알고리즘의 원리: 비움의 순서"
      ]
    },
    {
      "cell_type": "markdown",
      "metadata": {
        "id": "D_I1k9YYDhJm"
      },
      "source": [
        "\n",
        "\n",
        "- $A$와 $B$라는 [리스트]가 있다. 다음의 명제는 보유하고 있는 요소의 수에 대해 이들 [리스트]가 만족해야 하는 조건이다.\n",
        "\n",
        "$$A > 0 \\text{ and } B>0$$\n",
        "\n",
        "- 이 조건은 다음의 사건이 일어나면 어긋난다.\n",
        "  - $A=0$ 또는 $B=0$\n",
        "- 다시 말하면 두 [리스트] 중 하나만 \"**텅 비어**버려도\" 조건을 어기는 셈이 된다. \n",
        "\n",
        "<br/>\n",
        "\n",
        "---\n",
        "\n",
        "<br/>\n",
        "\n",
        "한편으로 또다른 흥미로운 점을 관찰할 수 있다. 바로 **비움**의 단계적인 미학이다. 비움은 단계적이고 서서히 일어난다. \n",
        "\n",
        "- $A > 0 \\text{ and } B>0$: 두 [리스트] 모두 요소로 **채워져 있다**.\n",
        "- $A > 0 \\text{ or } B>0$: 둘 중의 한 [리스트]가 **비워졌다**. 다음 두 가지 중 하나일 것이다. \n",
        "  - $A = 0$ 혹은\n",
        "  - $B = 0$\n",
        "- 그리고 최종적으로 둘 다 **비워진다**.\n",
        "  - $A = 0 \\text{ and } B = 0$\n"
      ]
    },
    {
      "cell_type": "markdown",
      "metadata": {
        "id": "ak-ExTxXDsNw"
      },
      "source": [
        "# `while`과 `pop`의 만남.\n",
        "`while`은 강력하다.   \n",
        "`pop`은 재미있다.   \n",
        "\n",
        "둘이 만나면 강력한 재미를 선사한다.\n",
        "- `pop`은 `while`이 그만하라고 할 때까지 계속 `pop`한다. \n",
        "- 사람의 언어로 표현하면 이들 둘이 그 어떤 [리스트]라도 *텅 비워버릴* 수 있다는 것이다. \n",
        "\n",
        "<br/>\n",
        "\n",
        "Merge Sort는 `while`과 `pop`의 간단하고도 흥미로운 화학작용을 이용한 알고리즘이다."
      ]
    },
    {
      "cell_type": "markdown",
      "metadata": {
        "id": "oYhX7EhKGK6b"
      },
      "source": [
        "### 하나의 [리스트]가 비어있지 않은 동안(while)"
      ]
    },
    {
      "cell_type": "code",
      "metadata": {
        "colab": {
          "base_uri": "https://localhost:8080/"
        },
        "id": "ElC4g88AFThD",
        "outputId": "fcb424cf-66f1-4aba-fa07-e6ae2decedad"
      },
      "source": [
        "my_list = list(np.arange(1, 11, 1))\n",
        "my_list"
      ],
      "execution_count": null,
      "outputs": [
        {
          "output_type": "execute_result",
          "data": {
            "text/plain": [
              "[1, 2, 3, 4, 5, 6, 7, 8, 9, 10]"
            ]
          },
          "metadata": {},
          "execution_count": 4
        }
      ]
    },
    {
      "cell_type": "code",
      "metadata": {
        "id": "og3R4ujcDgYu"
      },
      "source": [
        "def empty_list(my_list):\n",
        "    \n",
        "    your_list = []\n",
        "\n",
        "    while (len(my_list) > 0):              # [my_list]가 비어있지 않은 동안\n",
        "        your_list.append(my_list.pop(-1))  # [my_list]에서 마지막 요소를 pop해서 [your_list]에 갖다 붙인다.\n",
        "    \n",
        "    return my_list, your_list"
      ],
      "execution_count": null,
      "outputs": []
    },
    {
      "cell_type": "code",
      "metadata": {
        "colab": {
          "base_uri": "https://localhost:8080/"
        },
        "id": "9VLkVJV-FosS",
        "outputId": "b662901c-bd31-4e1e-cbe8-7103fb82144e"
      },
      "source": [
        "my_list, your_list = empty_list(my_list)\n",
        "my_list, your_list"
      ],
      "execution_count": null,
      "outputs": [
        {
          "output_type": "execute_result",
          "data": {
            "text/plain": [
              "([], [10, 9, 8, 7, 6, 5, 4, 3, 2, 1])"
            ]
          },
          "metadata": {},
          "execution_count": 9
        }
      ]
    },
    {
      "cell_type": "markdown",
      "metadata": {
        "id": "RLDOyYzEGMt_"
      },
      "source": [
        "### 두 개의 [리스트]가 모두 비어있지 않은 동안(while)"
      ]
    },
    {
      "cell_type": "code",
      "metadata": {
        "id": "cuUiASprGMYC"
      },
      "source": [
        "def empty_either_list(my_list1, my_list2):\n",
        "    \n",
        "    list1 = []\n",
        "    list2 = []\n",
        "    \n",
        "    i = 0\n",
        "    while len(my_list1) > 0 and len(my_list2) > 0:   # [my_list1]과 [my_list2] 둘 다 비어있지 않은 동안 \n",
        "        if (my_list2[i] % 2 == 1):\n",
        "            list2.append(my_list2.pop(0))            \n",
        "        else:\n",
        "            list1.append(my_list1.pop(0))\n",
        "        i += 1\n",
        "        \n",
        "        if i > (len(my_list1)-1) or i > (len(my_list)-1):\n",
        "            i = 0\n",
        "    \n",
        "    return list1, list2"
      ],
      "execution_count": null,
      "outputs": []
    },
    {
      "cell_type": "code",
      "metadata": {
        "colab": {
          "base_uri": "https://localhost:8080/"
        },
        "id": "Q__LchdYHT1-",
        "outputId": "335f4b4e-e1a1-4284-e8a4-bd608f88c602"
      },
      "source": [
        "factors_2 = list(np.arange(2, 21, 2))\n",
        "factors_3 = list(np.arange(3, 31, 3))\n",
        "\n",
        "factors_2, factors_3"
      ],
      "execution_count": null,
      "outputs": [
        {
          "output_type": "execute_result",
          "data": {
            "text/plain": [
              "([2, 4, 6, 8, 10, 12, 14, 16, 18, 20], [3, 6, 9, 12, 15, 18, 21, 24, 27, 30])"
            ]
          },
          "metadata": {},
          "execution_count": 50
        }
      ]
    },
    {
      "cell_type": "markdown",
      "metadata": {
        "id": "vw3P0M5iMvLg"
      },
      "source": [
        "2의 배수 리스트(`factors_2`)가 비워져버려 `while`문 조건이 깨졌다. 그래서 코드가 `pop`하는 `while`에서 빠져나왔다."
      ]
    },
    {
      "cell_type": "code",
      "metadata": {
        "colab": {
          "base_uri": "https://localhost:8080/"
        },
        "id": "4ULF_lUhHeKp",
        "outputId": "e34cd5a1-139f-413c-f6b7-8ca9996cf05b"
      },
      "source": [
        "print(factors_2, factors_3)\n",
        "\n",
        "print(empty_either_list(factors_2, factors_3))\n",
        "\n",
        "print(factors_2, factors_3)"
      ],
      "execution_count": null,
      "outputs": [
        {
          "output_type": "stream",
          "name": "stdout",
          "text": [
            "[2, 4, 6, 8, 10, 12, 14, 16, 18, 20] [3, 6, 9, 12, 15, 18, 21, 24, 27, 30]\n",
            "([2, 4, 6, 8, 10, 12, 14, 16, 18, 20], [3])\n",
            "[] [6, 9, 12, 15, 18, 21, 24, 27, 30]\n"
          ]
        }
      ]
    }
  ]
}
